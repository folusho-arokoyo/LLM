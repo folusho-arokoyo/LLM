{
 "cells": [
  {
   "cell_type": "markdown",
   "id": "e8630f95",
   "metadata": {
    "papermill": {
     "duration": 0.031424,
     "end_time": "2025-02-14T08:12:01.350146",
     "exception": false,
     "start_time": "2025-02-14T08:12:01.318722",
     "status": "completed"
    },
    "tags": []
   },
   "source": [
    "# Lesson 6: Model Example"
   ]
  },
  {
   "cell_type": "markdown",
   "id": "181bb634",
   "metadata": {
    "papermill": {
     "duration": 0.030016,
     "end_time": "2025-02-14T08:12:01.410113",
     "exception": false,
     "start_time": "2025-02-14T08:12:01.380097",
     "status": "completed"
    },
    "tags": []
   },
   "source": [
    "In this lesson, you will reinforce your understanding of the transformer architecture by exploring the decoder-only [model](https://huggingface.co/microsoft/Phi-3-mini-4k-instruct) `microsoft/Phi-3-mini-4k-instruct`."
   ]
  },
  {
   "cell_type": "markdown",
   "id": "906f8ea7",
   "metadata": {
    "papermill": {
     "duration": 0.029008,
     "end_time": "2025-02-14T08:12:01.468725",
     "exception": false,
     "start_time": "2025-02-14T08:12:01.439717",
     "status": "completed"
    },
    "tags": []
   },
   "source": [
    "## Setup\n",
    "\n",
    "We start with setting up the lab by installing the required libraries (`transformers` and `accelerate`) and ignoring the warnings. The `accelerate` library is required by the `Phi-3` model. But you don't need to worry about installing these libraries, the requirements for this lab are already installed. "
   ]
  },
  {
   "cell_type": "markdown",
   "id": "268bbe13",
   "metadata": {
    "papermill": {
     "duration": 0.03337,
     "end_time": "2025-02-14T08:12:01.531803",
     "exception": false,
     "start_time": "2025-02-14T08:12:01.498433",
     "status": "completed"
    },
    "tags": []
   },
   "source": [
    "<p style=\"background-color:#fff6ff; padding:15px; border-width:3px; border-color:#efe6ef; border-style:solid; border-radius:6px\"> 💻 &nbsp; <b>Access <code>requirements.txt</code> file:</b> If you'd like to access the requirements file: 1) click on the <em>\"File\"</em> option on the top menu of the notebook and then 2) click on <em>\"Open\"</em>. For more help, please see the <em>\"Appendix – Tips, Help, and Download\"</em> Lesson.</p>"
   ]
  },
  {
   "cell_type": "code",
   "execution_count": 1,
   "id": "97f6c64e",
   "metadata": {
    "execution": {
     "iopub.execute_input": "2025-02-14T08:12:01.593623Z",
     "iopub.status.busy": "2025-02-14T08:12:01.593227Z",
     "iopub.status.idle": "2025-02-14T08:12:01.599388Z",
     "shell.execute_reply": "2025-02-14T08:12:01.598084Z"
    },
    "height": 45,
    "papermill": {
     "duration": 0.039202,
     "end_time": "2025-02-14T08:12:01.601685",
     "exception": false,
     "start_time": "2025-02-14T08:12:01.562483",
     "status": "completed"
    },
    "tags": []
   },
   "outputs": [],
   "source": [
    "#!pip install transformers>=4.46.1 accelerate>=0.31.0"
   ]
  },
  {
   "cell_type": "code",
   "execution_count": 2,
   "id": "7d95b69c",
   "metadata": {
    "execution": {
     "iopub.execute_input": "2025-02-14T08:12:01.660834Z",
     "iopub.status.busy": "2025-02-14T08:12:01.660484Z",
     "iopub.status.idle": "2025-02-14T08:12:08.361125Z",
     "shell.execute_reply": "2025-02-14T08:12:08.359389Z"
    },
    "papermill": {
     "duration": 6.733696,
     "end_time": "2025-02-14T08:12:08.364644",
     "exception": false,
     "start_time": "2025-02-14T08:12:01.630948",
     "status": "completed"
    },
    "tags": []
   },
   "outputs": [],
   "source": [
    "!pip install transformers>=4.48.3 accelerate>=1.3.0"
   ]
  },
  {
   "cell_type": "code",
   "execution_count": 3,
   "id": "eca858ad",
   "metadata": {
    "execution": {
     "iopub.execute_input": "2025-02-14T08:12:08.425732Z",
     "iopub.status.busy": "2025-02-14T08:12:08.425301Z",
     "iopub.status.idle": "2025-02-14T08:12:08.430501Z",
     "shell.execute_reply": "2025-02-14T08:12:08.429298Z"
    },
    "height": 64,
    "papermill": {
     "duration": 0.037979,
     "end_time": "2025-02-14T08:12:08.432465",
     "exception": false,
     "start_time": "2025-02-14T08:12:08.394486",
     "status": "completed"
    },
    "tags": []
   },
   "outputs": [],
   "source": [
    "# Warning control\n",
    "import warnings\n",
    "warnings.filterwarnings('ignore')"
   ]
  },
  {
   "cell_type": "markdown",
   "id": "2014b6ae",
   "metadata": {
    "id": "W_23Z_do-faF",
    "papermill": {
     "duration": 0.027438,
     "end_time": "2025-02-14T08:12:08.488585",
     "exception": false,
     "start_time": "2025-02-14T08:12:08.461147",
     "status": "completed"
    },
    "tags": []
   },
   "source": [
    "## Loading the LLM"
   ]
  },
  {
   "cell_type": "markdown",
   "id": "598d1ace",
   "metadata": {
    "papermill": {
     "duration": 0.027844,
     "end_time": "2025-02-14T08:12:08.544246",
     "exception": false,
     "start_time": "2025-02-14T08:12:08.516402",
     "status": "completed"
    },
    "tags": []
   },
   "source": [
    "Let's first load the model and its tokenizer. For that you will first import the classes: `AutoModelForCausalLM` and `AutoTokenizer`. When you want to process a sentence, you can apply the tokenizer first and then the model in two separate steps. Or you can create a pipeline object that wraps the two steps and then apply the pipeline to the sentence. You'll explore both approaches in this notebook. This is why you'll also import the `pipeline` class."
   ]
  },
  {
   "cell_type": "markdown",
   "id": "8e649669",
   "metadata": {
    "papermill": {
     "duration": 0.02723,
     "end_time": "2025-02-14T08:12:08.599228",
     "exception": false,
     "start_time": "2025-02-14T08:12:08.571998",
     "status": "completed"
    },
    "tags": []
   },
   "source": [
    "<p style=\"background-color:#fff1d7; padding:15px; \"> <b>FYI: </b> The transformers library has two types of model classes: <code> AutoModelForCausalLM </code> and <code>AutoModelForMaskedLM</code>. Causal language models represent the decoder-only models that are used for text generation. They are described as causal, because to predict the next token, the model can only attend to the preceding left tokens. Masked language models represent the encoder-only models that are used for rich text representation. They are described as masked, because they are trained to predict a masked or hidden token in a sequence.</p>"
   ]
  },
  {
   "cell_type": "code",
   "execution_count": 4,
   "id": "d992fcd5",
   "metadata": {
    "execution": {
     "iopub.execute_input": "2025-02-14T08:12:08.656639Z",
     "iopub.status.busy": "2025-02-14T08:12:08.656164Z",
     "iopub.status.idle": "2025-02-14T08:12:40.731165Z",
     "shell.execute_reply": "2025-02-14T08:12:40.730030Z"
    },
    "height": 62,
    "papermill": {
     "duration": 32.106745,
     "end_time": "2025-02-14T08:12:40.733620",
     "exception": false,
     "start_time": "2025-02-14T08:12:08.626875",
     "status": "completed"
    },
    "tags": []
   },
   "outputs": [],
   "source": [
    "# import the required classes\n",
    "from transformers import AutoModelForCausalLM, AutoTokenizer, pipeline"
   ]
  },
  {
   "cell_type": "code",
   "execution_count": 5,
   "id": "56169339",
   "metadata": {
    "execution": {
     "iopub.execute_input": "2025-02-14T08:12:40.796653Z",
     "iopub.status.busy": "2025-02-14T08:12:40.795714Z",
     "iopub.status.idle": "2025-02-14T08:12:43.266759Z",
     "shell.execute_reply": "2025-02-14T08:12:43.265560Z"
    },
    "executionInfo": {
     "elapsed": 130259,
     "status": "ok",
     "timestamp": 1718959891215,
     "user": {
      "displayName": "Maarten Grootendorst",
      "userId": "11015108362723620659"
     },
     "user_tz": -120
    },
    "height": 181,
    "id": "-5RLd6dI-Ytm",
    "outputId": "fb085ff7-e06f-4142-8e95-5ff98b212e37",
    "papermill": {
     "duration": 2.506168,
     "end_time": "2025-02-14T08:12:43.269094",
     "exception": false,
     "start_time": "2025-02-14T08:12:40.762926",
     "status": "completed"
    },
    "tags": []
   },
   "outputs": [
    {
     "data": {
      "application/vnd.jupyter.widget-view+json": {
       "model_id": "af391ce76a6546d98ddfdaa429dee575",
       "version_major": 2,
       "version_minor": 0
      },
      "text/plain": [
       "Loading checkpoint shards:   0%|          | 0/2 [00:00<?, ?it/s]"
      ]
     },
     "metadata": {},
     "output_type": "display_data"
    }
   ],
   "source": [
    "# Load model and tokenizer\n",
    "tokenizer = AutoTokenizer.from_pretrained(\"/kaggle/input/phi-3/pytorch/phi-3.5-mini-instruct/2\")\n",
    "\n",
    "model = AutoModelForCausalLM.from_pretrained(\n",
    "    \"/kaggle/input/phi-3/pytorch/phi-3.5-mini-instruct/2\",\n",
    "    device_map=\"cpu\",\n",
    "    torch_dtype=\"auto\",\n",
    "    trust_remote_code=True,\n",
    ")"
   ]
  },
  {
   "cell_type": "markdown",
   "id": "73ddef1b",
   "metadata": {
    "papermill": {
     "duration": 0.028496,
     "end_time": "2025-02-14T08:12:43.327690",
     "exception": false,
     "start_time": "2025-02-14T08:12:43.299194",
     "status": "completed"
    },
    "tags": []
   },
   "source": [
    "<p style=\"background-color:#fff1d7; padding:15px; \"> <b> Note:</b> You'll receive a warning that the flash-attention package is not found. That's because flash attention requires certain types of GPU hardware to run. Since the model of this lab is not using any GPU, you can ignore this warning.</p>"
   ]
  },
  {
   "cell_type": "markdown",
   "id": "bdbec557",
   "metadata": {
    "papermill": {
     "duration": 0.029025,
     "end_time": "2025-02-14T08:12:43.385685",
     "exception": false,
     "start_time": "2025-02-14T08:12:43.356660",
     "status": "completed"
    },
    "tags": []
   },
   "source": [
    "Now you can wrap the model and the tokenizer in a [pipeline](https://huggingface.co/docs/transformers/en/main_classes/pipelines#transformers.pipeline) object that has \"text-generation\" as task."
   ]
  },
  {
   "cell_type": "code",
   "execution_count": 6,
   "id": "113c80c9",
   "metadata": {
    "execution": {
     "iopub.execute_input": "2025-02-14T08:12:43.445539Z",
     "iopub.status.busy": "2025-02-14T08:12:43.445156Z",
     "iopub.status.idle": "2025-02-14T08:12:43.452414Z",
     "shell.execute_reply": "2025-02-14T08:12:43.451194Z"
    },
    "height": 181,
    "papermill": {
     "duration": 0.039601,
     "end_time": "2025-02-14T08:12:43.454611",
     "exception": false,
     "start_time": "2025-02-14T08:12:43.415010",
     "status": "completed"
    },
    "tags": []
   },
   "outputs": [
    {
     "name": "stderr",
     "output_type": "stream",
     "text": [
      "Device set to use cpu\n"
     ]
    }
   ],
   "source": [
    "# Create a pipeline\n",
    "generator = pipeline(\n",
    "    \"text-generation\",\n",
    "    model=model,\n",
    "    tokenizer=tokenizer,\n",
    "    return_full_text=False, # False means to not include the prompt text in the returned text\n",
    "    max_new_tokens=300, \n",
    "    do_sample=False, # no randomness in the generated text\n",
    ")"
   ]
  },
  {
   "cell_type": "markdown",
   "id": "00572a96",
   "metadata": {
    "id": "REqcz-ID_XgV",
    "papermill": {
     "duration": 0.029215,
     "end_time": "2025-02-14T08:12:43.513737",
     "exception": false,
     "start_time": "2025-02-14T08:12:43.484522",
     "status": "completed"
    },
    "tags": []
   },
   "source": [
    "## Generating a Text Response to a Prompt"
   ]
  },
  {
   "cell_type": "markdown",
   "id": "e61e1cb3",
   "metadata": {
    "papermill": {
     "duration": 0.098859,
     "end_time": "2025-02-14T08:12:43.642612",
     "exception": false,
     "start_time": "2025-02-14T08:12:43.543753",
     "status": "completed"
    },
    "tags": []
   },
   "source": [
    "You'll now use the pipeline object (labeled as generator) to generate a response consisting of 50 tokens to the given prompt."
   ]
  },
  {
   "cell_type": "markdown",
   "id": "42ad7dbe",
   "metadata": {
    "papermill": {
     "duration": 0.027971,
     "end_time": "2025-02-14T08:12:43.699223",
     "exception": false,
     "start_time": "2025-02-14T08:12:43.671252",
     "status": "completed"
    },
    "tags": []
   },
   "source": [
    "<p style=\"background-color:#fff6e4; padding:15px; border-width:3px; border-color:#f5ecda; border-style:solid; border-radius:6px\"> ⏳ <b>Note: </b> The model might take around 2 minutes to generate the output.</p>"
   ]
  },
  {
   "cell_type": "code",
   "execution_count": 7,
   "id": "711988f3",
   "metadata": {
    "execution": {
     "iopub.execute_input": "2025-02-14T08:12:43.758524Z",
     "iopub.status.busy": "2025-02-14T08:12:43.758072Z",
     "iopub.status.idle": "2025-02-14T08:32:25.517216Z",
     "shell.execute_reply": "2025-02-14T08:32:25.514542Z"
    },
    "executionInfo": {
     "elapsed": 4955,
     "status": "ok",
     "timestamp": 1718959896168,
     "user": {
      "displayName": "Maarten Grootendorst",
      "userId": "11015108362723620659"
     },
     "user_tz": -120
    },
    "height": 113,
    "id": "17h6TPHluJ-i",
    "outputId": "18727eeb-ccd6-40f8-aab1-25c8d9a03cbe",
    "papermill": {
     "duration": 1181.841742,
     "end_time": "2025-02-14T08:32:25.569381",
     "exception": false,
     "start_time": "2025-02-14T08:12:43.727639",
     "status": "completed"
    },
    "tags": []
   },
   "outputs": [
    {
     "name": "stderr",
     "output_type": "stream",
     "text": [
      "The `seen_tokens` attribute is deprecated and will be removed in v4.41. Use the `cache_position` model input instead.\n",
      "`get_max_cache()` is deprecated for all Cache classes. Use `get_max_cache_shape()` instead. Calling `get_max_cache()` will raise error from v4.48\n"
     ]
    },
    {
     "name": "stdout",
     "output_type": "stream",
     "text": [
      "\n",
      "\n",
      "Subject: Sincere Apologies for the Gardening Mishap\n",
      "\n",
      "Dear Sarah,\n",
      "\n",
      "I hope this message finds you well. I am writing to express my deepest apologies for the unfortunate incident that occurred in your garden yesterday.\n",
      "\n",
      "As you know, I had been looking forward to helping you with your gardening project. Unfortunately, during our time together, a series of unforeseen events led to an accident that resulted in some damage to your beautiful garden.\n",
      "\n",
      "The incident began when I was attempting to help you transplant a young sapling into its new location. In my eagerness to ensure the plant's successful relocation, I accidentally knocked over a nearby pot of delicate flowers. The pot shattered on impact, scattering soil and broken pottery across your meticulously maintained garden beds.\n",
      "\n",
      "I understand that this incident has caused you distress and inconvenience. Please know that I am truly sorry for any upset this may have caused you. I take full responsibility for my actions and the subsequent damage to your garden.\n",
      "\n",
      "To make amends, I would like to offer my assistance in repairing the damage. I am more than willing to help you clean up the broken pottery, replant the displaced flowers, and restore your garden to its former beauty. I will also take extra care to ensure that such an accident does not happen again in\n"
     ]
    }
   ],
   "source": [
    "prompt = \"Write an email apologizing to Sarah for the tragic gardening mishap. Explain how it happened. \"\n",
    "\n",
    "output = generator(prompt)\n",
    "\n",
    "print(output[0]['generated_text'])"
   ]
  },
  {
   "cell_type": "markdown",
   "id": "fdcf7f20",
   "metadata": {
    "papermill": {
     "duration": 0.028469,
     "end_time": "2025-02-14T08:32:25.635652",
     "exception": false,
     "start_time": "2025-02-14T08:32:25.607183",
     "status": "completed"
    },
    "tags": []
   },
   "source": [
    "## Exploring the Model's Architecture"
   ]
  },
  {
   "cell_type": "markdown",
   "id": "dfe78c09",
   "metadata": {
    "papermill": {
     "duration": 0.030395,
     "end_time": "2025-02-14T08:32:25.695271",
     "exception": false,
     "start_time": "2025-02-14T08:32:25.664876",
     "status": "completed"
    },
    "tags": []
   },
   "source": [
    "You can print the model to take a look at its architecture."
   ]
  },
  {
   "cell_type": "code",
   "execution_count": 8,
   "id": "304aaf11",
   "metadata": {
    "execution": {
     "iopub.execute_input": "2025-02-14T08:32:25.756017Z",
     "iopub.status.busy": "2025-02-14T08:32:25.755411Z",
     "iopub.status.idle": "2025-02-14T08:32:25.768797Z",
     "shell.execute_reply": "2025-02-14T08:32:25.767497Z"
    },
    "executionInfo": {
     "elapsed": 1,
     "status": "ok",
     "timestamp": 1718959898745,
     "user": {
      "displayName": "Maarten Grootendorst",
      "userId": "11015108362723620659"
     },
     "user_tz": -120
    },
    "height": 30,
    "id": "eoFkdTd6_g5o",
    "outputId": "bdcfde9f-28b7-4f43-ec0c-32c16677a776",
    "papermill": {
     "duration": 0.046819,
     "end_time": "2025-02-14T08:32:25.770658",
     "exception": false,
     "start_time": "2025-02-14T08:32:25.723839",
     "status": "completed"
    },
    "tags": []
   },
   "outputs": [
    {
     "data": {
      "text/plain": [
       "Phi3ForCausalLM(\n",
       "  (model): Phi3Model(\n",
       "    (embed_tokens): Embedding(32064, 3072, padding_idx=32000)\n",
       "    (embed_dropout): Dropout(p=0.0, inplace=False)\n",
       "    (layers): ModuleList(\n",
       "      (0-31): 32 x Phi3DecoderLayer(\n",
       "        (self_attn): Phi3Attention(\n",
       "          (o_proj): Linear(in_features=3072, out_features=3072, bias=False)\n",
       "          (qkv_proj): Linear(in_features=3072, out_features=9216, bias=False)\n",
       "          (rotary_emb): Phi3LongRoPEScaledRotaryEmbedding()\n",
       "        )\n",
       "        (mlp): Phi3MLP(\n",
       "          (gate_up_proj): Linear(in_features=3072, out_features=16384, bias=False)\n",
       "          (down_proj): Linear(in_features=8192, out_features=3072, bias=False)\n",
       "          (activation_fn): SiLU()\n",
       "        )\n",
       "        (input_layernorm): Phi3RMSNorm()\n",
       "        (resid_attn_dropout): Dropout(p=0.0, inplace=False)\n",
       "        (resid_mlp_dropout): Dropout(p=0.0, inplace=False)\n",
       "        (post_attention_layernorm): Phi3RMSNorm()\n",
       "      )\n",
       "    )\n",
       "    (norm): Phi3RMSNorm()\n",
       "  )\n",
       "  (lm_head): Linear(in_features=3072, out_features=32064, bias=False)\n",
       ")"
      ]
     },
     "execution_count": 8,
     "metadata": {},
     "output_type": "execute_result"
    }
   ],
   "source": [
    "model"
   ]
  },
  {
   "cell_type": "markdown",
   "id": "6d5ffd5b",
   "metadata": {
    "papermill": {
     "duration": 0.028164,
     "end_time": "2025-02-14T08:32:25.827529",
     "exception": false,
     "start_time": "2025-02-14T08:32:25.799365",
     "status": "completed"
    },
    "tags": []
   },
   "source": [
    "The vocabulary size is 32064 tokens, and the size of the vector embedding for each token is 3072."
   ]
  },
  {
   "cell_type": "code",
   "execution_count": 9,
   "id": "4ce9bfac",
   "metadata": {
    "execution": {
     "iopub.execute_input": "2025-02-14T08:32:25.886464Z",
     "iopub.status.busy": "2025-02-14T08:32:25.885974Z",
     "iopub.status.idle": "2025-02-14T08:32:25.893599Z",
     "shell.execute_reply": "2025-02-14T08:32:25.892067Z"
    },
    "height": 30,
    "papermill": {
     "duration": 0.039868,
     "end_time": "2025-02-14T08:32:25.895761",
     "exception": false,
     "start_time": "2025-02-14T08:32:25.855893",
     "status": "completed"
    },
    "tags": []
   },
   "outputs": [
    {
     "data": {
      "text/plain": [
       "Embedding(32064, 3072, padding_idx=32000)"
      ]
     },
     "execution_count": 9,
     "metadata": {},
     "output_type": "execute_result"
    }
   ],
   "source": [
    "model.model.embed_tokens"
   ]
  },
  {
   "cell_type": "markdown",
   "id": "1fa579a2",
   "metadata": {
    "papermill": {
     "duration": 0.028256,
     "end_time": "2025-02-14T08:32:25.952829",
     "exception": false,
     "start_time": "2025-02-14T08:32:25.924573",
     "status": "completed"
    },
    "tags": []
   },
   "source": [
    "You can just focus on printing the stack of transformer blocks without the LM head component."
   ]
  },
  {
   "cell_type": "code",
   "execution_count": 10,
   "id": "53ec737f",
   "metadata": {
    "execution": {
     "iopub.execute_input": "2025-02-14T08:32:26.012515Z",
     "iopub.status.busy": "2025-02-14T08:32:26.012065Z",
     "iopub.status.idle": "2025-02-14T08:32:26.020944Z",
     "shell.execute_reply": "2025-02-14T08:32:26.019690Z"
    },
    "height": 30,
    "papermill": {
     "duration": 0.041781,
     "end_time": "2025-02-14T08:32:26.023249",
     "exception": false,
     "start_time": "2025-02-14T08:32:25.981468",
     "status": "completed"
    },
    "tags": []
   },
   "outputs": [
    {
     "data": {
      "text/plain": [
       "Phi3Model(\n",
       "  (embed_tokens): Embedding(32064, 3072, padding_idx=32000)\n",
       "  (embed_dropout): Dropout(p=0.0, inplace=False)\n",
       "  (layers): ModuleList(\n",
       "    (0-31): 32 x Phi3DecoderLayer(\n",
       "      (self_attn): Phi3Attention(\n",
       "        (o_proj): Linear(in_features=3072, out_features=3072, bias=False)\n",
       "        (qkv_proj): Linear(in_features=3072, out_features=9216, bias=False)\n",
       "        (rotary_emb): Phi3LongRoPEScaledRotaryEmbedding()\n",
       "      )\n",
       "      (mlp): Phi3MLP(\n",
       "        (gate_up_proj): Linear(in_features=3072, out_features=16384, bias=False)\n",
       "        (down_proj): Linear(in_features=8192, out_features=3072, bias=False)\n",
       "        (activation_fn): SiLU()\n",
       "      )\n",
       "      (input_layernorm): Phi3RMSNorm()\n",
       "      (resid_attn_dropout): Dropout(p=0.0, inplace=False)\n",
       "      (resid_mlp_dropout): Dropout(p=0.0, inplace=False)\n",
       "      (post_attention_layernorm): Phi3RMSNorm()\n",
       "    )\n",
       "  )\n",
       "  (norm): Phi3RMSNorm()\n",
       ")"
      ]
     },
     "execution_count": 10,
     "metadata": {},
     "output_type": "execute_result"
    }
   ],
   "source": [
    "model.model"
   ]
  },
  {
   "cell_type": "markdown",
   "id": "3c69e37a",
   "metadata": {
    "papermill": {
     "duration": 0.029014,
     "end_time": "2025-02-14T08:32:26.081783",
     "exception": false,
     "start_time": "2025-02-14T08:32:26.052769",
     "status": "completed"
    },
    "tags": []
   },
   "source": [
    "There are 32 transformer blocks or layers. You can access any particular block."
   ]
  },
  {
   "cell_type": "code",
   "execution_count": 11,
   "id": "c893b6e8",
   "metadata": {
    "execution": {
     "iopub.execute_input": "2025-02-14T08:32:26.144036Z",
     "iopub.status.busy": "2025-02-14T08:32:26.143526Z",
     "iopub.status.idle": "2025-02-14T08:32:26.150115Z",
     "shell.execute_reply": "2025-02-14T08:32:26.149023Z"
    },
    "height": 30,
    "papermill": {
     "duration": 0.03917,
     "end_time": "2025-02-14T08:32:26.151985",
     "exception": false,
     "start_time": "2025-02-14T08:32:26.112815",
     "status": "completed"
    },
    "tags": []
   },
   "outputs": [
    {
     "data": {
      "text/plain": [
       "Phi3DecoderLayer(\n",
       "  (self_attn): Phi3Attention(\n",
       "    (o_proj): Linear(in_features=3072, out_features=3072, bias=False)\n",
       "    (qkv_proj): Linear(in_features=3072, out_features=9216, bias=False)\n",
       "    (rotary_emb): Phi3LongRoPEScaledRotaryEmbedding()\n",
       "  )\n",
       "  (mlp): Phi3MLP(\n",
       "    (gate_up_proj): Linear(in_features=3072, out_features=16384, bias=False)\n",
       "    (down_proj): Linear(in_features=8192, out_features=3072, bias=False)\n",
       "    (activation_fn): SiLU()\n",
       "  )\n",
       "  (input_layernorm): Phi3RMSNorm()\n",
       "  (resid_attn_dropout): Dropout(p=0.0, inplace=False)\n",
       "  (resid_mlp_dropout): Dropout(p=0.0, inplace=False)\n",
       "  (post_attention_layernorm): Phi3RMSNorm()\n",
       ")"
      ]
     },
     "execution_count": 11,
     "metadata": {},
     "output_type": "execute_result"
    }
   ],
   "source": [
    "model.model.layers[0]"
   ]
  },
  {
   "cell_type": "markdown",
   "id": "2ba9a913",
   "metadata": {
    "id": "RTrwzB67BYVY",
    "papermill": {
     "duration": 0.029481,
     "end_time": "2025-02-14T08:32:26.211543",
     "exception": false,
     "start_time": "2025-02-14T08:32:26.182062",
     "status": "completed"
    },
    "tags": []
   },
   "source": [
    "## Generating a Single Token to a Prompt"
   ]
  },
  {
   "cell_type": "markdown",
   "id": "0ff5b436",
   "metadata": {
    "papermill": {
     "duration": 0.030604,
     "end_time": "2025-02-14T08:32:26.272213",
     "exception": false,
     "start_time": "2025-02-14T08:32:26.241609",
     "status": "completed"
    },
    "tags": []
   },
   "source": [
    "You earlier used the Pipeline object to generate a text response to a prompt. The pipeline provides an abstraction to the underlying process of text generation. Each token in the text is actually generated one by one. \n",
    "\n",
    "Let's now give the model a prompt and check the first token it will generate."
   ]
  },
  {
   "cell_type": "code",
   "execution_count": 12,
   "id": "76ba4134",
   "metadata": {
    "execution": {
     "iopub.execute_input": "2025-02-14T08:32:26.335255Z",
     "iopub.status.busy": "2025-02-14T08:32:26.334814Z",
     "iopub.status.idle": "2025-02-14T08:32:26.340479Z",
     "shell.execute_reply": "2025-02-14T08:32:26.338956Z"
    },
    "height": 30,
    "id": "sEcxYgJxBYbJ",
    "papermill": {
     "duration": 0.039129,
     "end_time": "2025-02-14T08:32:26.342515",
     "exception": false,
     "start_time": "2025-02-14T08:32:26.303386",
     "status": "completed"
    },
    "tags": []
   },
   "outputs": [],
   "source": [
    "prompt = \"The capital of Nigeria is\""
   ]
  },
  {
   "cell_type": "markdown",
   "id": "4d6df6c9",
   "metadata": {
    "papermill": {
     "duration": 0.030201,
     "end_time": "2025-02-14T08:32:26.403854",
     "exception": false,
     "start_time": "2025-02-14T08:32:26.373653",
     "status": "completed"
    },
    "tags": []
   },
   "source": [
    "You'll need first to tokenize the prompt and get the ids of the tokens."
   ]
  },
  {
   "cell_type": "code",
   "execution_count": 13,
   "id": "fc9de192",
   "metadata": {
    "execution": {
     "iopub.execute_input": "2025-02-14T08:32:26.465855Z",
     "iopub.status.busy": "2025-02-14T08:32:26.465353Z",
     "iopub.status.idle": "2025-02-14T08:32:26.518384Z",
     "shell.execute_reply": "2025-02-14T08:32:26.517129Z"
    },
    "height": 79,
    "papermill": {
     "duration": 0.086358,
     "end_time": "2025-02-14T08:32:26.520386",
     "exception": false,
     "start_time": "2025-02-14T08:32:26.434028",
     "status": "completed"
    },
    "tags": []
   },
   "outputs": [
    {
     "data": {
      "text/plain": [
       "tensor([[  450,  7483,   310, 20537,   423,   338]])"
      ]
     },
     "execution_count": 13,
     "metadata": {},
     "output_type": "execute_result"
    }
   ],
   "source": [
    "# Tokenize the input prompt\n",
    "input_ids = tokenizer(prompt, return_tensors=\"pt\").input_ids\n",
    "input_ids"
   ]
  },
  {
   "cell_type": "markdown",
   "id": "9739d08e",
   "metadata": {
    "papermill": {
     "duration": 0.029081,
     "end_time": "2025-02-14T08:32:26.579354",
     "exception": false,
     "start_time": "2025-02-14T08:32:26.550273",
     "status": "completed"
    },
    "tags": []
   },
   "source": [
    "Let's now pass the token ids to the transformer block (before the LM head)."
   ]
  },
  {
   "cell_type": "code",
   "execution_count": 14,
   "id": "34cfae53",
   "metadata": {
    "execution": {
     "iopub.execute_input": "2025-02-14T08:32:26.641182Z",
     "iopub.status.busy": "2025-02-14T08:32:26.640720Z",
     "iopub.status.idle": "2025-02-14T08:32:45.341533Z",
     "shell.execute_reply": "2025-02-14T08:32:45.340335Z"
    },
    "height": 62,
    "papermill": {
     "duration": 18.733949,
     "end_time": "2025-02-14T08:32:45.343937",
     "exception": false,
     "start_time": "2025-02-14T08:32:26.609988",
     "status": "completed"
    },
    "tags": []
   },
   "outputs": [],
   "source": [
    "# Get the output of the model before the lm_head\n",
    "model_output = model.model(input_ids)"
   ]
  },
  {
   "cell_type": "markdown",
   "id": "75da4cd0",
   "metadata": {
    "papermill": {
     "duration": 0.029997,
     "end_time": "2025-02-14T08:32:45.404408",
     "exception": false,
     "start_time": "2025-02-14T08:32:45.374411",
     "status": "completed"
    },
    "tags": []
   },
   "source": [
    "The transformer block outputs for each token a vector of size 3072 (embedding size). Let's check the shape of this output."
   ]
  },
  {
   "cell_type": "code",
   "execution_count": 15,
   "id": "62fafac3",
   "metadata": {
    "execution": {
     "iopub.execute_input": "2025-02-14T08:32:45.467460Z",
     "iopub.status.busy": "2025-02-14T08:32:45.466998Z",
     "iopub.status.idle": "2025-02-14T08:32:45.473902Z",
     "shell.execute_reply": "2025-02-14T08:32:45.472634Z"
    },
    "height": 62,
    "papermill": {
     "duration": 0.041234,
     "end_time": "2025-02-14T08:32:45.475822",
     "exception": false,
     "start_time": "2025-02-14T08:32:45.434588",
     "status": "completed"
    },
    "tags": []
   },
   "outputs": [
    {
     "data": {
      "text/plain": [
       "torch.Size([1, 6, 3072])"
      ]
     },
     "execution_count": 15,
     "metadata": {},
     "output_type": "execute_result"
    }
   ],
   "source": [
    "# Get the shape the output the model before the lm_head\n",
    "model_output[0].shape"
   ]
  },
  {
   "cell_type": "markdown",
   "id": "2b57eea2",
   "metadata": {
    "papermill": {
     "duration": 0.028941,
     "end_time": "2025-02-14T08:32:45.534621",
     "exception": false,
     "start_time": "2025-02-14T08:32:45.505680",
     "status": "completed"
    },
    "tags": []
   },
   "source": [
    "The first number represents the batch size, which is 1 in this case since we have one prompt. The second number 5 represents the number of tokens. And finally 3072 represents the embedding size (the size of the vector that corresponds to each token). \n",
    "\n",
    "Let's now get the output of the LM head."
   ]
  },
  {
   "cell_type": "code",
   "execution_count": 16,
   "id": "ef4c5b1f",
   "metadata": {
    "execution": {
     "iopub.execute_input": "2025-02-14T08:32:45.596535Z",
     "iopub.status.busy": "2025-02-14T08:32:45.596052Z",
     "iopub.status.idle": "2025-02-14T08:32:46.104409Z",
     "shell.execute_reply": "2025-02-14T08:32:46.103010Z"
    },
    "height": 62,
    "papermill": {
     "duration": 0.541444,
     "end_time": "2025-02-14T08:32:46.106928",
     "exception": false,
     "start_time": "2025-02-14T08:32:45.565484",
     "status": "completed"
    },
    "tags": []
   },
   "outputs": [],
   "source": [
    "# Get the output of the lm_head\n",
    "lm_head_output = model.lm_head(model_output[0])"
   ]
  },
  {
   "cell_type": "code",
   "execution_count": 17,
   "id": "6aa5faed",
   "metadata": {
    "execution": {
     "iopub.execute_input": "2025-02-14T08:32:46.169283Z",
     "iopub.status.busy": "2025-02-14T08:32:46.168879Z",
     "iopub.status.idle": "2025-02-14T08:32:46.175854Z",
     "shell.execute_reply": "2025-02-14T08:32:46.174573Z"
    },
    "executionInfo": {
     "elapsed": 1079,
     "status": "ok",
     "timestamp": 1718960424560,
     "user": {
      "displayName": "Maarten Grootendorst",
      "userId": "11015108362723620659"
     },
     "user_tz": -120
    },
    "height": 30,
    "id": "nC1PdOnTBnxZ",
    "outputId": "1fd5f482-7046-4536-b745-4e681d6ecdaf",
    "papermill": {
     "duration": 0.041519,
     "end_time": "2025-02-14T08:32:46.177884",
     "exception": false,
     "start_time": "2025-02-14T08:32:46.136365",
     "status": "completed"
    },
    "tags": []
   },
   "outputs": [
    {
     "data": {
      "text/plain": [
       "torch.Size([1, 6, 32064])"
      ]
     },
     "execution_count": 17,
     "metadata": {},
     "output_type": "execute_result"
    }
   ],
   "source": [
    "lm_head_output.shape"
   ]
  },
  {
   "cell_type": "markdown",
   "id": "5e2fc511",
   "metadata": {
    "papermill": {
     "duration": 0.03039,
     "end_time": "2025-02-14T08:32:46.239313",
     "exception": false,
     "start_time": "2025-02-14T08:32:46.208923",
     "status": "completed"
    },
    "tags": []
   },
   "source": [
    "The LM head outputs for each token in the input prompt, a vector of size 32064 (vocabulary size). So there are 5 vectors, each of size 32064. Each vector can be mapped to a probability distribution, that shows the probability for each token in the vocabulary to come after the given token in the input prompt.\n",
    "\n",
    "Since we're interested in generating the output token that comes after the last token in the input prompt (\"is\"), we'll focus on the last vector. So in the next cell, `lm_head_output[0,-1]` is a vector of size 32064 from which you can generate the token that comes after (\"is\"). You can do that by finding the id of the token that corresponds to the highest value in the vector `lm_head_output[0,-1]` (using `argmax(-1)`, -1 means across the last axis here)."
   ]
  },
  {
   "cell_type": "code",
   "execution_count": 18,
   "id": "c77e9576",
   "metadata": {
    "execution": {
     "iopub.execute_input": "2025-02-14T08:32:46.302919Z",
     "iopub.status.busy": "2025-02-14T08:32:46.302509Z",
     "iopub.status.idle": "2025-02-14T08:32:46.317892Z",
     "shell.execute_reply": "2025-02-14T08:32:46.316748Z"
    },
    "executionInfo": {
     "elapsed": 421,
     "status": "ok",
     "timestamp": 1718960391623,
     "user": {
      "displayName": "Maarten Grootendorst",
      "userId": "11015108362723620659"
     },
     "user_tz": -120
    },
    "height": 47,
    "id": "68YUSS4GBf9Q",
    "outputId": "2dc25e8d-03b6-4bca-b46c-fec3e3a4a492",
    "papermill": {
     "duration": 0.049763,
     "end_time": "2025-02-14T08:32:46.319750",
     "exception": false,
     "start_time": "2025-02-14T08:32:46.269987",
     "status": "completed"
    },
    "tags": []
   },
   "outputs": [
    {
     "data": {
      "text/plain": [
       "tensor(1976)"
      ]
     },
     "execution_count": 18,
     "metadata": {},
     "output_type": "execute_result"
    }
   ],
   "source": [
    "token_id = lm_head_output[0,-1].argmax(-1)\n",
    "token_id"
   ]
  },
  {
   "cell_type": "markdown",
   "id": "ffc0616c",
   "metadata": {
    "papermill": {
     "duration": 0.03121,
     "end_time": "2025-02-14T08:32:46.382435",
     "exception": false,
     "start_time": "2025-02-14T08:32:46.351225",
     "status": "completed"
    },
    "tags": []
   },
   "source": [
    "Finally, let's decode the returned token id."
   ]
  },
  {
   "cell_type": "code",
   "execution_count": 19,
   "id": "5667796b",
   "metadata": {
    "execution": {
     "iopub.execute_input": "2025-02-14T08:32:46.445900Z",
     "iopub.status.busy": "2025-02-14T08:32:46.445383Z",
     "iopub.status.idle": "2025-02-14T08:32:46.453096Z",
     "shell.execute_reply": "2025-02-14T08:32:46.451773Z"
    },
    "height": 30,
    "papermill": {
     "duration": 0.04213,
     "end_time": "2025-02-14T08:32:46.455297",
     "exception": false,
     "start_time": "2025-02-14T08:32:46.413167",
     "status": "completed"
    },
    "tags": []
   },
   "outputs": [
    {
     "data": {
      "text/plain": [
       "'Ab'"
      ]
     },
     "execution_count": 19,
     "metadata": {},
     "output_type": "execute_result"
    }
   ],
   "source": [
    "tokenizer.decode(token_id)"
   ]
  },
  {
   "cell_type": "code",
   "execution_count": null,
   "id": "2f982edf",
   "metadata": {
    "papermill": {
     "duration": 0.031561,
     "end_time": "2025-02-14T08:32:46.518620",
     "exception": false,
     "start_time": "2025-02-14T08:32:46.487059",
     "status": "completed"
    },
    "tags": []
   },
   "outputs": [],
   "source": []
  },
  {
   "cell_type": "code",
   "execution_count": 20,
   "id": "b6e07158",
   "metadata": {
    "execution": {
     "iopub.execute_input": "2025-02-14T08:32:46.582698Z",
     "iopub.status.busy": "2025-02-14T08:32:46.582282Z",
     "iopub.status.idle": "2025-02-14T09:09:05.235419Z",
     "shell.execute_reply": "2025-02-14T09:09:05.232953Z"
    },
    "papermill": {
     "duration": 2178.730523,
     "end_time": "2025-02-14T09:09:05.280235",
     "exception": false,
     "start_time": "2025-02-14T08:32:46.549712",
     "status": "completed"
    },
    "tags": []
   },
   "outputs": [
    {
     "name": "stdout",
     "output_type": "stream",
     "text": [
      "\n",
      "\n",
      "# Answer\n",
      "**Situation:**\n",
      "At an e-commerce company with a team of 20, I was tasked with enhancing our sales forecasting capabilities. The company aimed to better understand customer behavior to drive sales growth.\n",
      "\n",
      "**Task:**\n",
      "I collaborated with the sales and marketing teams to implement a machine learning model that could accurately predict customer behaviors and sales trends.\n",
      "\n",
      "**Action:**\n",
      "To build the predictive model, I began by sourcing and cleaning the data from our stakeholders. I meticulously checked for outliers and handled missing data using median imputation. I then split the dataset into training and testing sets and normalized the data to prepare it for various algorithms.\n",
      "\n",
      "I experimented with different machine learning algorithms, including Multilayer Perceptron (MLP), logistic regression, and random forest, to find the most effective model for our classification problem. After training the models, I evaluated their performance using precision, recall, F1-score, and ROC-AUC metrics.\n",
      "\n",
      "The model I selected achieved an accuracy of 76%, which translated into a significant 15% increase in sales for the company.\n",
      "\n",
      "**Result:**\n",
      "The implementation of the predictive model had a direct and positive impact on the company's business operations. The sales team was able to make more informed decisions based\n"
     ]
    }
   ],
   "source": [
    "prompt = \"Help rewrite this using a STAR interview method: I worked with an e-commerce company with a size of 20 people. The company need to predict customer behaviour and sales. I stepped into the project collaborating with the sales and marketing team to apply a machine-learning model to predict customer behaviours and sales. I sourced my data from existing stakeholders involved, cleaned the data, checked for outliers, split the dataset into train and test sets, normalised the provided dataset employed different algorithms i.e. MLP, logistic regression and random forest, the reason for this is the problem I'm solving is a classification problem and I made predictions on the test set. I employed evaluation metrics to measure the model's performance using precision, recall, F1-score, and ROC-AUC. The model achieved an accuracy of 76%, resulting in a 15% increase in sales. One of the challenges encountered was outliers and missing data points, I applied a median imputation to handle the missing data and remove features with the high outliers. The company business was impacted as they made required adjustments based on the sales prediction, I created an interactive dashboard using PowerBI to show the predicted sales revenue over time, with filters for different product categories and regions. The stakeholders, including the sales and marketing teams, could use the dashboard to explore the data, identify trends, and make data-driven decisions. I received positive feedback from the stakeholders on the effectiveness of the visualizations in communicating the insights and results.\"\n",
    "\n",
    "output = generator(prompt)\n",
    "\n",
    "print(output[0]['generated_text'])"
   ]
  },
  {
   "cell_type": "code",
   "execution_count": 21,
   "id": "0fb712aa",
   "metadata": {
    "execution": {
     "iopub.execute_input": "2025-02-14T09:09:05.344778Z",
     "iopub.status.busy": "2025-02-14T09:09:05.344305Z",
     "iopub.status.idle": "2025-02-14T09:14:25.161960Z",
     "shell.execute_reply": "2025-02-14T09:14:25.160229Z"
    },
    "papermill": {
     "duration": 319.883326,
     "end_time": "2025-02-14T09:14:25.195169",
     "exception": false,
     "start_time": "2025-02-14T09:09:05.311843",
     "status": "completed"
    },
    "tags": []
   },
   "outputs": [
    {
     "name": "stdout",
     "output_type": "stream",
     "text": [
      "\n",
      "\n",
      "A) Lagos\n",
      "B) Abuja\n",
      "C) Kano\n",
      "D) Port Harcourt\n",
      "\n",
      "# Answer\n",
      "B) Abuja\n",
      "\n",
      "Abuja was designated as the capital of Nigeria in 1991, replacing Lagos. It is located in the center of the country and was chosen for its central location, which is more accessible to all parts of the nation.\n"
     ]
    }
   ],
   "source": [
    "prompt = \"What is the capital of Nigeria?\"\n",
    "output = generator(prompt)\n",
    "\n",
    "print(output[0]['generated_text'])"
   ]
  },
  {
   "cell_type": "markdown",
   "id": "b7de2037",
   "metadata": {
    "papermill": {
     "duration": 0.030084,
     "end_time": "2025-02-14T09:14:25.446369",
     "exception": false,
     "start_time": "2025-02-14T09:14:25.416285",
     "status": "completed"
    },
    "tags": []
   },
   "source": [
    "<p style=\"background-color:#f2f2ff; padding:15px; border-width:3px; border-color:#e2e2ff; border-style:solid; border-radius:6px\"> ⬇\n",
    "&nbsp; <b>Download Notebooks:</b> If you'd like to donwload the notebook: 1) click on the <em>\"File\"</em> option on the top menu of the notebook and then 2) click on <em>\"Download as\"</em> and select <em>\"Notebook (.ipynb)\"</em>. For more help, please see the <em>\"Appendix – Tips, Help, and Download\"</em> Lesson.</p>"
   ]
  }
 ],
 "metadata": {
  "accelerator": "GPU",
  "colab": {
   "gpuType": "T4",
   "provenance": []
  },
  "kaggle": {
   "accelerator": "none",
   "dataSources": [
    {
     "isSourceIdPinned": true,
     "modelId": 163622,
     "modelInstanceId": 141018,
     "sourceId": 165740,
     "sourceType": "modelInstanceVersion"
    }
   ],
   "dockerImageVersionId": 30886,
   "isGpuEnabled": false,
   "isInternetEnabled": false,
   "language": "python",
   "sourceType": "notebook"
  },
  "kernelspec": {
   "display_name": "Python 3",
   "language": "python",
   "name": "python3"
  },
  "language_info": {
   "codemirror_mode": {
    "name": "ipython",
    "version": 3
   },
   "file_extension": ".py",
   "mimetype": "text/x-python",
   "name": "python",
   "nbconvert_exporter": "python",
   "pygments_lexer": "ipython3",
   "version": "3.10.12"
  },
  "papermill": {
   "default_parameters": {},
   "duration": 3750.617072,
   "end_time": "2025-02-14T09:14:28.108752",
   "environment_variables": {},
   "exception": null,
   "input_path": "__notebook__.ipynb",
   "output_path": "__notebook__.ipynb",
   "parameters": {},
   "start_time": "2025-02-14T08:11:57.491680",
   "version": "2.6.0"
  },
  "widgets": {
   "application/vnd.jupyter.widget-state+json": {
    "state": {
     "04c8bf1698e44ae69206559142dc46a6": {
      "model_module": "@jupyter-widgets/base",
      "model_module_version": "2.0.0",
      "model_name": "LayoutModel",
      "state": {
       "_model_module": "@jupyter-widgets/base",
       "_model_module_version": "2.0.0",
       "_model_name": "LayoutModel",
       "_view_count": null,
       "_view_module": "@jupyter-widgets/base",
       "_view_module_version": "2.0.0",
       "_view_name": "LayoutView",
       "align_content": null,
       "align_items": null,
       "align_self": null,
       "border_bottom": null,
       "border_left": null,
       "border_right": null,
       "border_top": null,
       "bottom": null,
       "display": null,
       "flex": null,
       "flex_flow": null,
       "grid_area": null,
       "grid_auto_columns": null,
       "grid_auto_flow": null,
       "grid_auto_rows": null,
       "grid_column": null,
       "grid_gap": null,
       "grid_row": null,
       "grid_template_areas": null,
       "grid_template_columns": null,
       "grid_template_rows": null,
       "height": null,
       "justify_content": null,
       "justify_items": null,
       "left": null,
       "margin": null,
       "max_height": null,
       "max_width": null,
       "min_height": null,
       "min_width": null,
       "object_fit": null,
       "object_position": null,
       "order": null,
       "overflow": null,
       "padding": null,
       "right": null,
       "top": null,
       "visibility": null,
       "width": null
      }
     },
     "08dc674b93cf47ce87d5bd66cdcc80ce": {
      "model_module": "@jupyter-widgets/controls",
      "model_module_version": "2.0.0",
      "model_name": "HTMLModel",
      "state": {
       "_dom_classes": [],
       "_model_module": "@jupyter-widgets/controls",
       "_model_module_version": "2.0.0",
       "_model_name": "HTMLModel",
       "_view_count": null,
       "_view_module": "@jupyter-widgets/controls",
       "_view_module_version": "2.0.0",
       "_view_name": "HTMLView",
       "description": "",
       "description_allow_html": false,
       "layout": "IPY_MODEL_6e245ea803ce4f35a4f7546160ce6b2a",
       "placeholder": "​",
       "style": "IPY_MODEL_3e0a7d28b8c64fc4969447a6b9375b26",
       "tabbable": null,
       "tooltip": null,
       "value": " 2/2 [00:01&lt;00:00,  1.19it/s]"
      }
     },
     "17b8e03749a84e49b600fd9644135dcb": {
      "model_module": "@jupyter-widgets/controls",
      "model_module_version": "2.0.0",
      "model_name": "FloatProgressModel",
      "state": {
       "_dom_classes": [],
       "_model_module": "@jupyter-widgets/controls",
       "_model_module_version": "2.0.0",
       "_model_name": "FloatProgressModel",
       "_view_count": null,
       "_view_module": "@jupyter-widgets/controls",
       "_view_module_version": "2.0.0",
       "_view_name": "ProgressView",
       "bar_style": "success",
       "description": "",
       "description_allow_html": false,
       "layout": "IPY_MODEL_6beb1427da62451e814df83aa4f1cfcc",
       "max": 2.0,
       "min": 0.0,
       "orientation": "horizontal",
       "style": "IPY_MODEL_33ef8e4603e244af9361a286438c33eb",
       "tabbable": null,
       "tooltip": null,
       "value": 2.0
      }
     },
     "25b3d6fbe32b4c5db9511dd938a6b6fc": {
      "model_module": "@jupyter-widgets/controls",
      "model_module_version": "2.0.0",
      "model_name": "HTMLModel",
      "state": {
       "_dom_classes": [],
       "_model_module": "@jupyter-widgets/controls",
       "_model_module_version": "2.0.0",
       "_model_name": "HTMLModel",
       "_view_count": null,
       "_view_module": "@jupyter-widgets/controls",
       "_view_module_version": "2.0.0",
       "_view_name": "HTMLView",
       "description": "",
       "description_allow_html": false,
       "layout": "IPY_MODEL_33ad70453a334fd4b8c40bf61fc00b7d",
       "placeholder": "​",
       "style": "IPY_MODEL_b9461b6b9d674127ac6e42a9344b4262",
       "tabbable": null,
       "tooltip": null,
       "value": "Loading checkpoint shards: 100%"
      }
     },
     "33ad70453a334fd4b8c40bf61fc00b7d": {
      "model_module": "@jupyter-widgets/base",
      "model_module_version": "2.0.0",
      "model_name": "LayoutModel",
      "state": {
       "_model_module": "@jupyter-widgets/base",
       "_model_module_version": "2.0.0",
       "_model_name": "LayoutModel",
       "_view_count": null,
       "_view_module": "@jupyter-widgets/base",
       "_view_module_version": "2.0.0",
       "_view_name": "LayoutView",
       "align_content": null,
       "align_items": null,
       "align_self": null,
       "border_bottom": null,
       "border_left": null,
       "border_right": null,
       "border_top": null,
       "bottom": null,
       "display": null,
       "flex": null,
       "flex_flow": null,
       "grid_area": null,
       "grid_auto_columns": null,
       "grid_auto_flow": null,
       "grid_auto_rows": null,
       "grid_column": null,
       "grid_gap": null,
       "grid_row": null,
       "grid_template_areas": null,
       "grid_template_columns": null,
       "grid_template_rows": null,
       "height": null,
       "justify_content": null,
       "justify_items": null,
       "left": null,
       "margin": null,
       "max_height": null,
       "max_width": null,
       "min_height": null,
       "min_width": null,
       "object_fit": null,
       "object_position": null,
       "order": null,
       "overflow": null,
       "padding": null,
       "right": null,
       "top": null,
       "visibility": null,
       "width": null
      }
     },
     "33ef8e4603e244af9361a286438c33eb": {
      "model_module": "@jupyter-widgets/controls",
      "model_module_version": "2.0.0",
      "model_name": "ProgressStyleModel",
      "state": {
       "_model_module": "@jupyter-widgets/controls",
       "_model_module_version": "2.0.0",
       "_model_name": "ProgressStyleModel",
       "_view_count": null,
       "_view_module": "@jupyter-widgets/base",
       "_view_module_version": "2.0.0",
       "_view_name": "StyleView",
       "bar_color": null,
       "description_width": ""
      }
     },
     "3e0a7d28b8c64fc4969447a6b9375b26": {
      "model_module": "@jupyter-widgets/controls",
      "model_module_version": "2.0.0",
      "model_name": "HTMLStyleModel",
      "state": {
       "_model_module": "@jupyter-widgets/controls",
       "_model_module_version": "2.0.0",
       "_model_name": "HTMLStyleModel",
       "_view_count": null,
       "_view_module": "@jupyter-widgets/base",
       "_view_module_version": "2.0.0",
       "_view_name": "StyleView",
       "background": null,
       "description_width": "",
       "font_size": null,
       "text_color": null
      }
     },
     "6beb1427da62451e814df83aa4f1cfcc": {
      "model_module": "@jupyter-widgets/base",
      "model_module_version": "2.0.0",
      "model_name": "LayoutModel",
      "state": {
       "_model_module": "@jupyter-widgets/base",
       "_model_module_version": "2.0.0",
       "_model_name": "LayoutModel",
       "_view_count": null,
       "_view_module": "@jupyter-widgets/base",
       "_view_module_version": "2.0.0",
       "_view_name": "LayoutView",
       "align_content": null,
       "align_items": null,
       "align_self": null,
       "border_bottom": null,
       "border_left": null,
       "border_right": null,
       "border_top": null,
       "bottom": null,
       "display": null,
       "flex": null,
       "flex_flow": null,
       "grid_area": null,
       "grid_auto_columns": null,
       "grid_auto_flow": null,
       "grid_auto_rows": null,
       "grid_column": null,
       "grid_gap": null,
       "grid_row": null,
       "grid_template_areas": null,
       "grid_template_columns": null,
       "grid_template_rows": null,
       "height": null,
       "justify_content": null,
       "justify_items": null,
       "left": null,
       "margin": null,
       "max_height": null,
       "max_width": null,
       "min_height": null,
       "min_width": null,
       "object_fit": null,
       "object_position": null,
       "order": null,
       "overflow": null,
       "padding": null,
       "right": null,
       "top": null,
       "visibility": null,
       "width": null
      }
     },
     "6e245ea803ce4f35a4f7546160ce6b2a": {
      "model_module": "@jupyter-widgets/base",
      "model_module_version": "2.0.0",
      "model_name": "LayoutModel",
      "state": {
       "_model_module": "@jupyter-widgets/base",
       "_model_module_version": "2.0.0",
       "_model_name": "LayoutModel",
       "_view_count": null,
       "_view_module": "@jupyter-widgets/base",
       "_view_module_version": "2.0.0",
       "_view_name": "LayoutView",
       "align_content": null,
       "align_items": null,
       "align_self": null,
       "border_bottom": null,
       "border_left": null,
       "border_right": null,
       "border_top": null,
       "bottom": null,
       "display": null,
       "flex": null,
       "flex_flow": null,
       "grid_area": null,
       "grid_auto_columns": null,
       "grid_auto_flow": null,
       "grid_auto_rows": null,
       "grid_column": null,
       "grid_gap": null,
       "grid_row": null,
       "grid_template_areas": null,
       "grid_template_columns": null,
       "grid_template_rows": null,
       "height": null,
       "justify_content": null,
       "justify_items": null,
       "left": null,
       "margin": null,
       "max_height": null,
       "max_width": null,
       "min_height": null,
       "min_width": null,
       "object_fit": null,
       "object_position": null,
       "order": null,
       "overflow": null,
       "padding": null,
       "right": null,
       "top": null,
       "visibility": null,
       "width": null
      }
     },
     "af391ce76a6546d98ddfdaa429dee575": {
      "model_module": "@jupyter-widgets/controls",
      "model_module_version": "2.0.0",
      "model_name": "HBoxModel",
      "state": {
       "_dom_classes": [],
       "_model_module": "@jupyter-widgets/controls",
       "_model_module_version": "2.0.0",
       "_model_name": "HBoxModel",
       "_view_count": null,
       "_view_module": "@jupyter-widgets/controls",
       "_view_module_version": "2.0.0",
       "_view_name": "HBoxView",
       "box_style": "",
       "children": [
        "IPY_MODEL_25b3d6fbe32b4c5db9511dd938a6b6fc",
        "IPY_MODEL_17b8e03749a84e49b600fd9644135dcb",
        "IPY_MODEL_08dc674b93cf47ce87d5bd66cdcc80ce"
       ],
       "layout": "IPY_MODEL_04c8bf1698e44ae69206559142dc46a6",
       "tabbable": null,
       "tooltip": null
      }
     },
     "b9461b6b9d674127ac6e42a9344b4262": {
      "model_module": "@jupyter-widgets/controls",
      "model_module_version": "2.0.0",
      "model_name": "HTMLStyleModel",
      "state": {
       "_model_module": "@jupyter-widgets/controls",
       "_model_module_version": "2.0.0",
       "_model_name": "HTMLStyleModel",
       "_view_count": null,
       "_view_module": "@jupyter-widgets/base",
       "_view_module_version": "2.0.0",
       "_view_name": "StyleView",
       "background": null,
       "description_width": "",
       "font_size": null,
       "text_color": null
      }
     }
    },
    "version_major": 2,
    "version_minor": 0
   }
  }
 },
 "nbformat": 4,
 "nbformat_minor": 5
}
